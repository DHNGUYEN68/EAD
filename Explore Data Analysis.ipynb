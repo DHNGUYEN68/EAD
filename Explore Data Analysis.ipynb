{
 "cells": [
  {
   "cell_type": "code",
   "execution_count": null,
   "metadata": {
    "executionInfo": {
     "elapsed": 1511,
     "status": "ok",
     "timestamp": 1608933885218,
     "user": {
      "displayName": "Dong Hai Nguyen Thanh",
      "photoUrl": "https://lh3.googleusercontent.com/a-/AOh14GgEuicTWQW6tLFP4q9zaCU67NViBzGAa9NZ8kMg2Q=s64",
      "userId": "13829564862953937633"
     },
     "user_tz": -60
    },
    "id": "3eRQc6CSp1rx"
   },
   "outputs": [],
   "source": [
    "#Exploranatory Data Analysis\n",
    "# Prep Steps \n",
    "#1 Import packages (numpy pandas matplot and seaborn)\n",
    "#2 Reading datafile to dataframe\n",
    "#3 Exploring columns, type (category vs measure), shape\n",
    "#4 Checking summaries and descriptive stats (avg; std)\n",
    "#5 Dropping/Renaming columns  (ds as x-axis for time-series)\n",
    "#6 Removing duplicates\n",
    "#7 Removing missing values (null or NaN)\n",
    "#8 Removing outliers (anomaly)\n",
    "#\n",
    "# Visual Analyis Steps\n",
    "#1 Correlation (heatmap : hot means high correlation between two variables)\n",
    "#2 Bar chart and histogram\n",
    "# Credit : Thanks to FORMASYS https://youtu.be/KDzUozgLyCI"
   ]
  },
  {
   "cell_type": "code",
   "execution_count": null,
   "metadata": {},
   "outputs": [],
   "source": [
    "# import packages\n",
    "import numpy as np\n",
    "import pandas as pd\n",
    "import matplotlib.pyplot as plt\n",
    "import seaborn as sns"
   ]
  },
  {
   "cell_type": "code",
   "execution_count": 2,
   "metadata": {
    "colab": {
     "base_uri": "https://localhost:8080/",
     "height": 408
    },
    "executionInfo": {
     "elapsed": 1836,
     "status": "error",
     "timestamp": 1608933885547,
     "user": {
      "displayName": "Dong Hai Nguyen Thanh",
      "photoUrl": "https://lh3.googleusercontent.com/a-/AOh14GgEuicTWQW6tLFP4q9zaCU67NViBzGAa9NZ8kMg2Q=s64",
      "userId": "13829564862953937633"
     },
     "user_tz": -60
    },
    "id": "9dfBTOm9p7ak",
    "outputId": "4c28f72c-cfc3-4731-f29a-58710073a2df"
   },
   "outputs": [],
   "source": [
    "# open movie db file\n",
    "df=pd.read_csv('tmdb_movies_data.csv')\n",
    "df_backup = pd.read_csv('tmdb_movies_data.csv')"
   ]
  },
  {
   "cell_type": "code",
   "execution_count": 4,
   "metadata": {
    "executionInfo": {
     "elapsed": 1477,
     "status": "aborted",
     "timestamp": 1608933885219,
     "user": {
      "displayName": "Dong Hai Nguyen Thanh",
      "photoUrl": "https://lh3.googleusercontent.com/a-/AOh14GgEuicTWQW6tLFP4q9zaCU67NViBzGAa9NZ8kMg2Q=s64",
      "userId": "13829564862953937633"
     },
     "user_tz": -60
    },
    "id": "ozaGM-ppri6d"
   },
   "outputs": [
    {
     "data": {
      "text/plain": [
       "<bound method NDFrame.head of            id    imdb_id  popularity     budget     revenue  \\\n",
       "0      135397  tt0369610   32.985763  150000000  1513528810   \n",
       "1       76341  tt1392190   28.419936  150000000   378436354   \n",
       "2      262500  tt2908446   13.112507  110000000   295238201   \n",
       "3      140607  tt2488496   11.173104  200000000  2068178225   \n",
       "4      168259  tt2820852    9.335014  190000000  1506249360   \n",
       "...       ...        ...         ...        ...         ...   \n",
       "10861      21  tt0060371    0.080598          0           0   \n",
       "10862   20379  tt0060472    0.065543          0           0   \n",
       "10863   39768  tt0060161    0.065141          0           0   \n",
       "10864   21449  tt0061177    0.064317          0           0   \n",
       "10865   22293  tt0060666    0.035919      19000           0   \n",
       "\n",
       "                     original_title  \\\n",
       "0                    Jurassic World   \n",
       "1                Mad Max: Fury Road   \n",
       "2                         Insurgent   \n",
       "3      Star Wars: The Force Awakens   \n",
       "4                         Furious 7   \n",
       "...                             ...   \n",
       "10861            The Endless Summer   \n",
       "10862                    Grand Prix   \n",
       "10863           Beregis Avtomobilya   \n",
       "10864        What's Up, Tiger Lily?   \n",
       "10865      Manos: The Hands of Fate   \n",
       "\n",
       "                                                    cast  \\\n",
       "0      Chris Pratt|Bryce Dallas Howard|Irrfan Khan|Vi...   \n",
       "1      Tom Hardy|Charlize Theron|Hugh Keays-Byrne|Nic...   \n",
       "2      Shailene Woodley|Theo James|Kate Winslet|Ansel...   \n",
       "3      Harrison Ford|Mark Hamill|Carrie Fisher|Adam D...   \n",
       "4      Vin Diesel|Paul Walker|Jason Statham|Michelle ...   \n",
       "...                                                  ...   \n",
       "10861  Michael Hynson|Robert August|Lord 'Tally Ho' B...   \n",
       "10862  James Garner|Eva Marie Saint|Yves Montand|Tosh...   \n",
       "10863  Innokentiy Smoktunovskiy|Oleg Efremov|Georgi Z...   \n",
       "10864  Tatsuya Mihashi|Akiko Wakabayashi|Mie Hama|Joh...   \n",
       "10865  Harold P. Warren|Tom Neyman|John Reynolds|Dian...   \n",
       "\n",
       "                                                homepage            director  \\\n",
       "0                          http://www.jurassicworld.com/     Colin Trevorrow   \n",
       "1                            http://www.madmaxmovie.com/       George Miller   \n",
       "2         http://www.thedivergentseries.movie/#insurgent    Robert Schwentke   \n",
       "3      http://www.starwars.com/films/star-wars-episod...         J.J. Abrams   \n",
       "4                               http://www.furious7.com/           James Wan   \n",
       "...                                                  ...                 ...   \n",
       "10861                                                NaN         Bruce Brown   \n",
       "10862                                                NaN  John Frankenheimer   \n",
       "10863                                                NaN      Eldar Ryazanov   \n",
       "10864                                                NaN         Woody Allen   \n",
       "10865                                                NaN    Harold P. Warren   \n",
       "\n",
       "                                                 tagline  ...  \\\n",
       "0                                      The park is open.  ...   \n",
       "1                                     What a Lovely Day.  ...   \n",
       "2                             One Choice Can Destroy You  ...   \n",
       "3                          Every generation has a story.  ...   \n",
       "4                                    Vengeance Hits Home  ...   \n",
       "...                                                  ...  ...   \n",
       "10861                                                NaN  ...   \n",
       "10862  Cinerama sweeps YOU into a drama of speed and ...  ...   \n",
       "10863                                                NaN  ...   \n",
       "10864                          WOODY ALLEN STRIKES BACK!  ...   \n",
       "10865       It's Shocking! It's Beyond Your Imagination!  ...   \n",
       "\n",
       "                                                overview runtime  \\\n",
       "0      Twenty-two years after the events of Jurassic ...     124   \n",
       "1      An apocalyptic story set in the furthest reach...     120   \n",
       "2      Beatrice Prior must confront her inner demons ...     119   \n",
       "3      Thirty years after defeating the Galactic Empi...     136   \n",
       "4      Deckard Shaw seeks revenge against Dominic Tor...     137   \n",
       "...                                                  ...     ...   \n",
       "10861  The Endless Summer, by Bruce Brown, is one of ...      95   \n",
       "10862  Grand Prix driver Pete Aron is fired by his te...     176   \n",
       "10863  An insurance agent who moonlights as a carthie...      94   \n",
       "10864  In comic Woody Allen's film debut, he took the...      80   \n",
       "10865  A family gets lost on the road and stumbles up...      74   \n",
       "\n",
       "                                          genres  \\\n",
       "0      Action|Adventure|Science Fiction|Thriller   \n",
       "1      Action|Adventure|Science Fiction|Thriller   \n",
       "2             Adventure|Science Fiction|Thriller   \n",
       "3       Action|Adventure|Science Fiction|Fantasy   \n",
       "4                          Action|Crime|Thriller   \n",
       "...                                          ...   \n",
       "10861                                Documentary   \n",
       "10862                     Action|Adventure|Drama   \n",
       "10863                             Mystery|Comedy   \n",
       "10864                              Action|Comedy   \n",
       "10865                                     Horror   \n",
       "\n",
       "                                    production_companies release_date  \\\n",
       "0      Universal Studios|Amblin Entertainment|Legenda...     6/9/2015   \n",
       "1      Village Roadshow Pictures|Kennedy Miller Produ...    5/13/2015   \n",
       "2      Summit Entertainment|Mandeville Films|Red Wago...    3/18/2015   \n",
       "3              Lucasfilm|Truenorth Productions|Bad Robot   12/15/2015   \n",
       "4      Universal Pictures|Original Film|Media Rights ...     4/1/2015   \n",
       "...                                                  ...          ...   \n",
       "10861                                  Bruce Brown Films    6/15/1966   \n",
       "10862  Cherokee Productions|Joel Productions|Douglas ...   12/21/1966   \n",
       "10863                                            Mosfilm     1/1/1966   \n",
       "10864                            Benedict Pictures Corp.    11/2/1966   \n",
       "10865                                          Norm-Iris   11/15/1966   \n",
       "\n",
       "      vote_count  vote_average  release_year    budget_adj   revenue_adj  \n",
       "0           5562           6.5          2015  1.379999e+08  1.392446e+09  \n",
       "1           6185           7.1          2015  1.379999e+08  3.481613e+08  \n",
       "2           2480           6.3          2015  1.012000e+08  2.716190e+08  \n",
       "3           5292           7.5          2015  1.839999e+08  1.902723e+09  \n",
       "4           2947           7.3          2015  1.747999e+08  1.385749e+09  \n",
       "...          ...           ...           ...           ...           ...  \n",
       "10861         11           7.4          1966  0.000000e+00  0.000000e+00  \n",
       "10862         20           5.7          1966  0.000000e+00  0.000000e+00  \n",
       "10863         11           6.5          1966  0.000000e+00  0.000000e+00  \n",
       "10864         22           5.4          1966  0.000000e+00  0.000000e+00  \n",
       "10865         15           1.5          1966  1.276423e+05  0.000000e+00  \n",
       "\n",
       "[10866 rows x 21 columns]>"
      ]
     },
     "execution_count": 4,
     "metadata": {},
     "output_type": "execute_result"
    }
   ],
   "source": [
    "# first few lines \n",
    "df.head"
   ]
  },
  {
   "cell_type": "code",
   "execution_count": 5,
   "metadata": {
    "executionInfo": {
     "elapsed": 1468,
     "status": "aborted",
     "timestamp": 1608933885220,
     "user": {
      "displayName": "Dong Hai Nguyen Thanh",
      "photoUrl": "https://lh3.googleusercontent.com/a-/AOh14GgEuicTWQW6tLFP4q9zaCU67NViBzGAa9NZ8kMg2Q=s64",
      "userId": "13829564862953937633"
     },
     "user_tz": -60
    },
    "id": "-wYa__o_rmbd"
   },
   "outputs": [
    {
     "data": {
      "text/plain": [
       "<bound method NDFrame.tail of            id    imdb_id  popularity     budget     revenue  \\\n",
       "0      135397  tt0369610   32.985763  150000000  1513528810   \n",
       "1       76341  tt1392190   28.419936  150000000   378436354   \n",
       "2      262500  tt2908446   13.112507  110000000   295238201   \n",
       "3      140607  tt2488496   11.173104  200000000  2068178225   \n",
       "4      168259  tt2820852    9.335014  190000000  1506249360   \n",
       "...       ...        ...         ...        ...         ...   \n",
       "10861      21  tt0060371    0.080598          0           0   \n",
       "10862   20379  tt0060472    0.065543          0           0   \n",
       "10863   39768  tt0060161    0.065141          0           0   \n",
       "10864   21449  tt0061177    0.064317          0           0   \n",
       "10865   22293  tt0060666    0.035919      19000           0   \n",
       "\n",
       "                     original_title  \\\n",
       "0                    Jurassic World   \n",
       "1                Mad Max: Fury Road   \n",
       "2                         Insurgent   \n",
       "3      Star Wars: The Force Awakens   \n",
       "4                         Furious 7   \n",
       "...                             ...   \n",
       "10861            The Endless Summer   \n",
       "10862                    Grand Prix   \n",
       "10863           Beregis Avtomobilya   \n",
       "10864        What's Up, Tiger Lily?   \n",
       "10865      Manos: The Hands of Fate   \n",
       "\n",
       "                                                    cast  \\\n",
       "0      Chris Pratt|Bryce Dallas Howard|Irrfan Khan|Vi...   \n",
       "1      Tom Hardy|Charlize Theron|Hugh Keays-Byrne|Nic...   \n",
       "2      Shailene Woodley|Theo James|Kate Winslet|Ansel...   \n",
       "3      Harrison Ford|Mark Hamill|Carrie Fisher|Adam D...   \n",
       "4      Vin Diesel|Paul Walker|Jason Statham|Michelle ...   \n",
       "...                                                  ...   \n",
       "10861  Michael Hynson|Robert August|Lord 'Tally Ho' B...   \n",
       "10862  James Garner|Eva Marie Saint|Yves Montand|Tosh...   \n",
       "10863  Innokentiy Smoktunovskiy|Oleg Efremov|Georgi Z...   \n",
       "10864  Tatsuya Mihashi|Akiko Wakabayashi|Mie Hama|Joh...   \n",
       "10865  Harold P. Warren|Tom Neyman|John Reynolds|Dian...   \n",
       "\n",
       "                                                homepage            director  \\\n",
       "0                          http://www.jurassicworld.com/     Colin Trevorrow   \n",
       "1                            http://www.madmaxmovie.com/       George Miller   \n",
       "2         http://www.thedivergentseries.movie/#insurgent    Robert Schwentke   \n",
       "3      http://www.starwars.com/films/star-wars-episod...         J.J. Abrams   \n",
       "4                               http://www.furious7.com/           James Wan   \n",
       "...                                                  ...                 ...   \n",
       "10861                                                NaN         Bruce Brown   \n",
       "10862                                                NaN  John Frankenheimer   \n",
       "10863                                                NaN      Eldar Ryazanov   \n",
       "10864                                                NaN         Woody Allen   \n",
       "10865                                                NaN    Harold P. Warren   \n",
       "\n",
       "                                                 tagline  ...  \\\n",
       "0                                      The park is open.  ...   \n",
       "1                                     What a Lovely Day.  ...   \n",
       "2                             One Choice Can Destroy You  ...   \n",
       "3                          Every generation has a story.  ...   \n",
       "4                                    Vengeance Hits Home  ...   \n",
       "...                                                  ...  ...   \n",
       "10861                                                NaN  ...   \n",
       "10862  Cinerama sweeps YOU into a drama of speed and ...  ...   \n",
       "10863                                                NaN  ...   \n",
       "10864                          WOODY ALLEN STRIKES BACK!  ...   \n",
       "10865       It's Shocking! It's Beyond Your Imagination!  ...   \n",
       "\n",
       "                                                overview runtime  \\\n",
       "0      Twenty-two years after the events of Jurassic ...     124   \n",
       "1      An apocalyptic story set in the furthest reach...     120   \n",
       "2      Beatrice Prior must confront her inner demons ...     119   \n",
       "3      Thirty years after defeating the Galactic Empi...     136   \n",
       "4      Deckard Shaw seeks revenge against Dominic Tor...     137   \n",
       "...                                                  ...     ...   \n",
       "10861  The Endless Summer, by Bruce Brown, is one of ...      95   \n",
       "10862  Grand Prix driver Pete Aron is fired by his te...     176   \n",
       "10863  An insurance agent who moonlights as a carthie...      94   \n",
       "10864  In comic Woody Allen's film debut, he took the...      80   \n",
       "10865  A family gets lost on the road and stumbles up...      74   \n",
       "\n",
       "                                          genres  \\\n",
       "0      Action|Adventure|Science Fiction|Thriller   \n",
       "1      Action|Adventure|Science Fiction|Thriller   \n",
       "2             Adventure|Science Fiction|Thriller   \n",
       "3       Action|Adventure|Science Fiction|Fantasy   \n",
       "4                          Action|Crime|Thriller   \n",
       "...                                          ...   \n",
       "10861                                Documentary   \n",
       "10862                     Action|Adventure|Drama   \n",
       "10863                             Mystery|Comedy   \n",
       "10864                              Action|Comedy   \n",
       "10865                                     Horror   \n",
       "\n",
       "                                    production_companies release_date  \\\n",
       "0      Universal Studios|Amblin Entertainment|Legenda...     6/9/2015   \n",
       "1      Village Roadshow Pictures|Kennedy Miller Produ...    5/13/2015   \n",
       "2      Summit Entertainment|Mandeville Films|Red Wago...    3/18/2015   \n",
       "3              Lucasfilm|Truenorth Productions|Bad Robot   12/15/2015   \n",
       "4      Universal Pictures|Original Film|Media Rights ...     4/1/2015   \n",
       "...                                                  ...          ...   \n",
       "10861                                  Bruce Brown Films    6/15/1966   \n",
       "10862  Cherokee Productions|Joel Productions|Douglas ...   12/21/1966   \n",
       "10863                                            Mosfilm     1/1/1966   \n",
       "10864                            Benedict Pictures Corp.    11/2/1966   \n",
       "10865                                          Norm-Iris   11/15/1966   \n",
       "\n",
       "      vote_count  vote_average  release_year    budget_adj   revenue_adj  \n",
       "0           5562           6.5          2015  1.379999e+08  1.392446e+09  \n",
       "1           6185           7.1          2015  1.379999e+08  3.481613e+08  \n",
       "2           2480           6.3          2015  1.012000e+08  2.716190e+08  \n",
       "3           5292           7.5          2015  1.839999e+08  1.902723e+09  \n",
       "4           2947           7.3          2015  1.747999e+08  1.385749e+09  \n",
       "...          ...           ...           ...           ...           ...  \n",
       "10861         11           7.4          1966  0.000000e+00  0.000000e+00  \n",
       "10862         20           5.7          1966  0.000000e+00  0.000000e+00  \n",
       "10863         11           6.5          1966  0.000000e+00  0.000000e+00  \n",
       "10864         22           5.4          1966  0.000000e+00  0.000000e+00  \n",
       "10865         15           1.5          1966  1.276423e+05  0.000000e+00  \n",
       "\n",
       "[10866 rows x 21 columns]>"
      ]
     },
     "execution_count": 5,
     "metadata": {},
     "output_type": "execute_result"
    }
   ],
   "source": [
    "# last few lines\n",
    "df.tail"
   ]
  },
  {
   "cell_type": "code",
   "execution_count": 6,
   "metadata": {
    "executionInfo": {
     "elapsed": 1459,
     "status": "aborted",
     "timestamp": 1608933885221,
     "user": {
      "displayName": "Dong Hai Nguyen Thanh",
      "photoUrl": "https://lh3.googleusercontent.com/a-/AOh14GgEuicTWQW6tLFP4q9zaCU67NViBzGAa9NZ8kMg2Q=s64",
      "userId": "13829564862953937633"
     },
     "user_tz": -60
    },
    "id": "hNzsR9okrzWE"
   },
   "outputs": [
    {
     "data": {
      "text/plain": [
       "(10866, 21)"
      ]
     },
     "execution_count": 6,
     "metadata": {},
     "output_type": "execute_result"
    }
   ],
   "source": [
    "# shape of the dataframe (size)\n",
    "df.shape"
   ]
  },
  {
   "cell_type": "code",
   "execution_count": 7,
   "metadata": {
    "executionInfo": {
     "elapsed": 1448,
     "status": "aborted",
     "timestamp": 1608933885222,
     "user": {
      "displayName": "Dong Hai Nguyen Thanh",
      "photoUrl": "https://lh3.googleusercontent.com/a-/AOh14GgEuicTWQW6tLFP4q9zaCU67NViBzGAa9NZ8kMg2Q=s64",
      "userId": "13829564862953937633"
     },
     "user_tz": -60
    },
    "id": "teIujKM3r77N"
   },
   "outputs": [
    {
     "name": "stdout",
     "output_type": "stream",
     "text": [
      "<class 'pandas.core.frame.DataFrame'>\n",
      "RangeIndex: 10866 entries, 0 to 10865\n",
      "Data columns (total 21 columns):\n",
      " #   Column                Non-Null Count  Dtype  \n",
      "---  ------                --------------  -----  \n",
      " 0   id                    10866 non-null  int64  \n",
      " 1   imdb_id               10856 non-null  object \n",
      " 2   popularity            10866 non-null  float64\n",
      " 3   budget                10866 non-null  int64  \n",
      " 4   revenue               10866 non-null  int64  \n",
      " 5   original_title        10866 non-null  object \n",
      " 6   cast                  10790 non-null  object \n",
      " 7   homepage              2936 non-null   object \n",
      " 8   director              10822 non-null  object \n",
      " 9   tagline               8042 non-null   object \n",
      " 10  keywords              9373 non-null   object \n",
      " 11  overview              10862 non-null  object \n",
      " 12  runtime               10866 non-null  int64  \n",
      " 13  genres                10843 non-null  object \n",
      " 14  production_companies  9836 non-null   object \n",
      " 15  release_date          10866 non-null  object \n",
      " 16  vote_count            10866 non-null  int64  \n",
      " 17  vote_average          10866 non-null  float64\n",
      " 18  release_year          10866 non-null  int64  \n",
      " 19  budget_adj            10866 non-null  float64\n",
      " 20  revenue_adj           10866 non-null  float64\n",
      "dtypes: float64(4), int64(6), object(11)\n",
      "memory usage: 1.7+ MB\n"
     ]
    }
   ],
   "source": [
    "# check datatype of every column\n",
    "# object : category\n",
    "# int or float : measures\n",
    "# \n",
    "df.info()"
   ]
  },
  {
   "cell_type": "code",
   "execution_count": 8,
   "metadata": {
    "executionInfo": {
     "elapsed": 1435,
     "status": "aborted",
     "timestamp": 1608933885223,
     "user": {
      "displayName": "Dong Hai Nguyen Thanh",
      "photoUrl": "https://lh3.googleusercontent.com/a-/AOh14GgEuicTWQW6tLFP4q9zaCU67NViBzGAa9NZ8kMg2Q=s64",
      "userId": "13829564862953937633"
     },
     "user_tz": -60
    },
    "id": "TGN9X7bFswQM"
   },
   "outputs": [
    {
     "data": {
      "text/html": [
       "<div>\n",
       "<style scoped>\n",
       "    .dataframe tbody tr th:only-of-type {\n",
       "        vertical-align: middle;\n",
       "    }\n",
       "\n",
       "    .dataframe tbody tr th {\n",
       "        vertical-align: top;\n",
       "    }\n",
       "\n",
       "    .dataframe thead th {\n",
       "        text-align: right;\n",
       "    }\n",
       "</style>\n",
       "<table border=\"1\" class=\"dataframe\">\n",
       "  <thead>\n",
       "    <tr style=\"text-align: right;\">\n",
       "      <th></th>\n",
       "      <th>id</th>\n",
       "      <th>popularity</th>\n",
       "      <th>budget</th>\n",
       "      <th>revenue</th>\n",
       "      <th>runtime</th>\n",
       "      <th>vote_count</th>\n",
       "      <th>vote_average</th>\n",
       "      <th>release_year</th>\n",
       "      <th>budget_adj</th>\n",
       "      <th>revenue_adj</th>\n",
       "    </tr>\n",
       "  </thead>\n",
       "  <tbody>\n",
       "    <tr>\n",
       "      <th>count</th>\n",
       "      <td>10866.000000</td>\n",
       "      <td>10866.000000</td>\n",
       "      <td>1.086600e+04</td>\n",
       "      <td>1.086600e+04</td>\n",
       "      <td>10866.000000</td>\n",
       "      <td>10866.000000</td>\n",
       "      <td>10866.000000</td>\n",
       "      <td>10866.000000</td>\n",
       "      <td>1.086600e+04</td>\n",
       "      <td>1.086600e+04</td>\n",
       "    </tr>\n",
       "    <tr>\n",
       "      <th>mean</th>\n",
       "      <td>66064.177434</td>\n",
       "      <td>0.646441</td>\n",
       "      <td>1.462570e+07</td>\n",
       "      <td>3.982332e+07</td>\n",
       "      <td>102.070863</td>\n",
       "      <td>217.389748</td>\n",
       "      <td>5.974922</td>\n",
       "      <td>2001.322658</td>\n",
       "      <td>1.755104e+07</td>\n",
       "      <td>5.136436e+07</td>\n",
       "    </tr>\n",
       "    <tr>\n",
       "      <th>std</th>\n",
       "      <td>92130.136561</td>\n",
       "      <td>1.000185</td>\n",
       "      <td>3.091321e+07</td>\n",
       "      <td>1.170035e+08</td>\n",
       "      <td>31.381405</td>\n",
       "      <td>575.619058</td>\n",
       "      <td>0.935142</td>\n",
       "      <td>12.812941</td>\n",
       "      <td>3.430616e+07</td>\n",
       "      <td>1.446325e+08</td>\n",
       "    </tr>\n",
       "    <tr>\n",
       "      <th>min</th>\n",
       "      <td>5.000000</td>\n",
       "      <td>0.000065</td>\n",
       "      <td>0.000000e+00</td>\n",
       "      <td>0.000000e+00</td>\n",
       "      <td>0.000000</td>\n",
       "      <td>10.000000</td>\n",
       "      <td>1.500000</td>\n",
       "      <td>1960.000000</td>\n",
       "      <td>0.000000e+00</td>\n",
       "      <td>0.000000e+00</td>\n",
       "    </tr>\n",
       "    <tr>\n",
       "      <th>25%</th>\n",
       "      <td>10596.250000</td>\n",
       "      <td>0.207583</td>\n",
       "      <td>0.000000e+00</td>\n",
       "      <td>0.000000e+00</td>\n",
       "      <td>90.000000</td>\n",
       "      <td>17.000000</td>\n",
       "      <td>5.400000</td>\n",
       "      <td>1995.000000</td>\n",
       "      <td>0.000000e+00</td>\n",
       "      <td>0.000000e+00</td>\n",
       "    </tr>\n",
       "    <tr>\n",
       "      <th>50%</th>\n",
       "      <td>20669.000000</td>\n",
       "      <td>0.383856</td>\n",
       "      <td>0.000000e+00</td>\n",
       "      <td>0.000000e+00</td>\n",
       "      <td>99.000000</td>\n",
       "      <td>38.000000</td>\n",
       "      <td>6.000000</td>\n",
       "      <td>2006.000000</td>\n",
       "      <td>0.000000e+00</td>\n",
       "      <td>0.000000e+00</td>\n",
       "    </tr>\n",
       "    <tr>\n",
       "      <th>75%</th>\n",
       "      <td>75610.000000</td>\n",
       "      <td>0.713817</td>\n",
       "      <td>1.500000e+07</td>\n",
       "      <td>2.400000e+07</td>\n",
       "      <td>111.000000</td>\n",
       "      <td>145.750000</td>\n",
       "      <td>6.600000</td>\n",
       "      <td>2011.000000</td>\n",
       "      <td>2.085325e+07</td>\n",
       "      <td>3.369710e+07</td>\n",
       "    </tr>\n",
       "    <tr>\n",
       "      <th>max</th>\n",
       "      <td>417859.000000</td>\n",
       "      <td>32.985763</td>\n",
       "      <td>4.250000e+08</td>\n",
       "      <td>2.781506e+09</td>\n",
       "      <td>900.000000</td>\n",
       "      <td>9767.000000</td>\n",
       "      <td>9.200000</td>\n",
       "      <td>2015.000000</td>\n",
       "      <td>4.250000e+08</td>\n",
       "      <td>2.827124e+09</td>\n",
       "    </tr>\n",
       "  </tbody>\n",
       "</table>\n",
       "</div>"
      ],
      "text/plain": [
       "                  id    popularity        budget       revenue       runtime  \\\n",
       "count   10866.000000  10866.000000  1.086600e+04  1.086600e+04  10866.000000   \n",
       "mean    66064.177434      0.646441  1.462570e+07  3.982332e+07    102.070863   \n",
       "std     92130.136561      1.000185  3.091321e+07  1.170035e+08     31.381405   \n",
       "min         5.000000      0.000065  0.000000e+00  0.000000e+00      0.000000   \n",
       "25%     10596.250000      0.207583  0.000000e+00  0.000000e+00     90.000000   \n",
       "50%     20669.000000      0.383856  0.000000e+00  0.000000e+00     99.000000   \n",
       "75%     75610.000000      0.713817  1.500000e+07  2.400000e+07    111.000000   \n",
       "max    417859.000000     32.985763  4.250000e+08  2.781506e+09    900.000000   \n",
       "\n",
       "         vote_count  vote_average  release_year    budget_adj   revenue_adj  \n",
       "count  10866.000000  10866.000000  10866.000000  1.086600e+04  1.086600e+04  \n",
       "mean     217.389748      5.974922   2001.322658  1.755104e+07  5.136436e+07  \n",
       "std      575.619058      0.935142     12.812941  3.430616e+07  1.446325e+08  \n",
       "min       10.000000      1.500000   1960.000000  0.000000e+00  0.000000e+00  \n",
       "25%       17.000000      5.400000   1995.000000  0.000000e+00  0.000000e+00  \n",
       "50%       38.000000      6.000000   2006.000000  0.000000e+00  0.000000e+00  \n",
       "75%      145.750000      6.600000   2011.000000  2.085325e+07  3.369710e+07  \n",
       "max     9767.000000      9.200000   2015.000000  4.250000e+08  2.827124e+09  "
      ]
     },
     "execution_count": 8,
     "metadata": {},
     "output_type": "execute_result"
    }
   ],
   "source": [
    "# few stats\n",
    "df.describe()"
   ]
  },
  {
   "cell_type": "markdown",
   "metadata": {
    "id": "GxiqS80ptCK-"
   },
   "source": [
    "Data cleansing"
   ]
  },
  {
   "cell_type": "code",
   "execution_count": 9,
   "metadata": {
    "executionInfo": {
     "elapsed": 1425,
     "status": "aborted",
     "timestamp": 1608933885226,
     "user": {
      "displayName": "Dong Hai Nguyen Thanh",
      "photoUrl": "https://lh3.googleusercontent.com/a-/AOh14GgEuicTWQW6tLFP4q9zaCU67NViBzGAa9NZ8kMg2Q=s64",
      "userId": "13829564862953937633"
     },
     "user_tz": -60
    },
    "id": "q8RlMpv1tD_t"
   },
   "outputs": [
    {
     "data": {
      "text/plain": [
       "1"
      ]
     },
     "execution_count": 9,
     "metadata": {},
     "output_type": "execute_result"
    }
   ],
   "source": [
    "# check count of duplicates\n",
    "df.duplicated().sum()"
   ]
  },
  {
   "cell_type": "code",
   "execution_count": 10,
   "metadata": {
    "executionInfo": {
     "elapsed": 1415,
     "status": "aborted",
     "timestamp": 1608933885227,
     "user": {
      "displayName": "Dong Hai Nguyen Thanh",
      "photoUrl": "https://lh3.googleusercontent.com/a-/AOh14GgEuicTWQW6tLFP4q9zaCU67NViBzGAa9NZ8kMg2Q=s64",
      "userId": "13829564862953937633"
     },
     "user_tz": -60
    },
    "id": "2lXlT7E-tPuU"
   },
   "outputs": [
    {
     "data": {
      "text/plain": [
       "0"
      ]
     },
     "execution_count": 10,
     "metadata": {},
     "output_type": "execute_result"
    }
   ],
   "source": [
    "# remove duplicate rows\n",
    "df.drop_duplicates(inplace=True)\n",
    "df.duplicated().sum()\n",
    "# no more duplicate row"
   ]
  },
  {
   "cell_type": "code",
   "execution_count": 11,
   "metadata": {
    "executionInfo": {
     "elapsed": 1406,
     "status": "aborted",
     "timestamp": 1608933885227,
     "user": {
      "displayName": "Dong Hai Nguyen Thanh",
      "photoUrl": "https://lh3.googleusercontent.com/a-/AOh14GgEuicTWQW6tLFP4q9zaCU67NViBzGAa9NZ8kMg2Q=s64",
      "userId": "13829564862953937633"
     },
     "user_tz": -60
    },
    "id": "9Q__lahwrrRE"
   },
   "outputs": [
    {
     "data": {
      "text/plain": [
       "id                         0\n",
       "imdb_id                   10\n",
       "popularity                 0\n",
       "budget                     0\n",
       "revenue                    0\n",
       "original_title             0\n",
       "cast                      76\n",
       "homepage                7929\n",
       "director                  44\n",
       "tagline                 2824\n",
       "keywords                1493\n",
       "overview                   4\n",
       "runtime                    0\n",
       "genres                    23\n",
       "production_companies    1030\n",
       "release_date               0\n",
       "vote_count                 0\n",
       "vote_average               0\n",
       "release_year               0\n",
       "budget_adj                 0\n",
       "revenue_adj                0\n",
       "dtype: int64"
      ]
     },
     "execution_count": 11,
     "metadata": {},
     "output_type": "execute_result"
    }
   ],
   "source": [
    "# check the Null values by feature\n",
    "df.isnull().sum()"
   ]
  },
  {
   "cell_type": "code",
   "execution_count": 12,
   "metadata": {
    "executionInfo": {
     "elapsed": 1695,
     "status": "aborted",
     "timestamp": 1608933885526,
     "user": {
      "displayName": "Dong Hai Nguyen Thanh",
      "photoUrl": "https://lh3.googleusercontent.com/a-/AOh14GgEuicTWQW6tLFP4q9zaCU67NViBzGAa9NZ8kMg2Q=s64",
      "userId": "13829564862953937633"
     },
     "user_tz": -60
    },
    "id": "rlek5BpzuFj3"
   },
   "outputs": [
    {
     "data": {
      "text/plain": [
       "Index(['id', 'imdb_id', 'popularity', 'budget', 'revenue', 'original_title',\n",
       "       'cast', 'homepage', 'director', 'tagline', 'keywords', 'overview',\n",
       "       'runtime', 'genres', 'production_companies', 'release_date',\n",
       "       'vote_count', 'vote_average', 'release_year', 'budget_adj',\n",
       "       'revenue_adj'],\n",
       "      dtype='object')"
      ]
     },
     "execution_count": 12,
     "metadata": {},
     "output_type": "execute_result"
    }
   ],
   "source": [
    "# features description\n",
    "df.columns"
   ]
  },
  {
   "cell_type": "code",
   "execution_count": 13,
   "metadata": {
    "executionInfo": {
     "elapsed": 1683,
     "status": "aborted",
     "timestamp": 1608933885527,
     "user": {
      "displayName": "Dong Hai Nguyen Thanh",
      "photoUrl": "https://lh3.googleusercontent.com/a-/AOh14GgEuicTWQW6tLFP4q9zaCU67NViBzGAa9NZ8kMg2Q=s64",
      "userId": "13829564862953937633"
     },
     "user_tz": -60
    },
    "id": "eUH-JJfnuM6d"
   },
   "outputs": [
    {
     "data": {
      "text/html": [
       "<div>\n",
       "<style scoped>\n",
       "    .dataframe tbody tr th:only-of-type {\n",
       "        vertical-align: middle;\n",
       "    }\n",
       "\n",
       "    .dataframe tbody tr th {\n",
       "        vertical-align: top;\n",
       "    }\n",
       "\n",
       "    .dataframe thead th {\n",
       "        text-align: right;\n",
       "    }\n",
       "</style>\n",
       "<table border=\"1\" class=\"dataframe\">\n",
       "  <thead>\n",
       "    <tr style=\"text-align: right;\">\n",
       "      <th></th>\n",
       "      <th>popularity</th>\n",
       "      <th>original_title</th>\n",
       "      <th>genres</th>\n",
       "      <th>vote_count</th>\n",
       "      <th>vote_average</th>\n",
       "      <th>release_year</th>\n",
       "      <th>budget_adj</th>\n",
       "      <th>revenue_adj</th>\n",
       "    </tr>\n",
       "  </thead>\n",
       "  <tbody>\n",
       "    <tr>\n",
       "      <th>0</th>\n",
       "      <td>32.985763</td>\n",
       "      <td>Jurassic World</td>\n",
       "      <td>Action|Adventure|Science Fiction|Thriller</td>\n",
       "      <td>5562</td>\n",
       "      <td>6.5</td>\n",
       "      <td>2015</td>\n",
       "      <td>137999939.3</td>\n",
       "      <td>1.392446e+09</td>\n",
       "    </tr>\n",
       "    <tr>\n",
       "      <th>1</th>\n",
       "      <td>28.419936</td>\n",
       "      <td>Mad Max: Fury Road</td>\n",
       "      <td>Action|Adventure|Science Fiction|Thriller</td>\n",
       "      <td>6185</td>\n",
       "      <td>7.1</td>\n",
       "      <td>2015</td>\n",
       "      <td>137999939.3</td>\n",
       "      <td>3.481613e+08</td>\n",
       "    </tr>\n",
       "    <tr>\n",
       "      <th>2</th>\n",
       "      <td>13.112507</td>\n",
       "      <td>Insurgent</td>\n",
       "      <td>Adventure|Science Fiction|Thriller</td>\n",
       "      <td>2480</td>\n",
       "      <td>6.3</td>\n",
       "      <td>2015</td>\n",
       "      <td>101199955.5</td>\n",
       "      <td>2.716190e+08</td>\n",
       "    </tr>\n",
       "    <tr>\n",
       "      <th>3</th>\n",
       "      <td>11.173104</td>\n",
       "      <td>Star Wars: The Force Awakens</td>\n",
       "      <td>Action|Adventure|Science Fiction|Fantasy</td>\n",
       "      <td>5292</td>\n",
       "      <td>7.5</td>\n",
       "      <td>2015</td>\n",
       "      <td>183999919.0</td>\n",
       "      <td>1.902723e+09</td>\n",
       "    </tr>\n",
       "    <tr>\n",
       "      <th>4</th>\n",
       "      <td>9.335014</td>\n",
       "      <td>Furious 7</td>\n",
       "      <td>Action|Crime|Thriller</td>\n",
       "      <td>2947</td>\n",
       "      <td>7.3</td>\n",
       "      <td>2015</td>\n",
       "      <td>174799923.1</td>\n",
       "      <td>1.385749e+09</td>\n",
       "    </tr>\n",
       "  </tbody>\n",
       "</table>\n",
       "</div>"
      ],
      "text/plain": [
       "   popularity                original_title  \\\n",
       "0   32.985763                Jurassic World   \n",
       "1   28.419936            Mad Max: Fury Road   \n",
       "2   13.112507                     Insurgent   \n",
       "3   11.173104  Star Wars: The Force Awakens   \n",
       "4    9.335014                     Furious 7   \n",
       "\n",
       "                                      genres  vote_count  vote_average  \\\n",
       "0  Action|Adventure|Science Fiction|Thriller        5562           6.5   \n",
       "1  Action|Adventure|Science Fiction|Thriller        6185           7.1   \n",
       "2         Adventure|Science Fiction|Thriller        2480           6.3   \n",
       "3   Action|Adventure|Science Fiction|Fantasy        5292           7.5   \n",
       "4                      Action|Crime|Thriller        2947           7.3   \n",
       "\n",
       "   release_year   budget_adj   revenue_adj  \n",
       "0          2015  137999939.3  1.392446e+09  \n",
       "1          2015  137999939.3  3.481613e+08  \n",
       "2          2015  101199955.5  2.716190e+08  \n",
       "3          2015  183999919.0  1.902723e+09  \n",
       "4          2015  174799923.1  1.385749e+09  "
      ]
     },
     "execution_count": 13,
     "metadata": {},
     "output_type": "execute_result"
    }
   ],
   "source": [
    "# features selection/suppression\n",
    "#Make the suppression repeatable\n",
    "df=df_backup.copy()\n",
    "deleted_cols=(['id', 'imdb_id',  'budget', 'revenue', \n",
    "       'cast', 'homepage', 'director', 'tagline', 'keywords', 'overview',\n",
    "       'runtime',  'production_companies', 'release_date'])\n",
    "df.drop(deleted_cols,axis=1, inplace=True)\n",
    "df.head()"
   ]
  },
  {
   "cell_type": "code",
   "execution_count": 14,
   "metadata": {
    "executionInfo": {
     "elapsed": 1673,
     "status": "aborted",
     "timestamp": 1608933885528,
     "user": {
      "displayName": "Dong Hai Nguyen Thanh",
      "photoUrl": "https://lh3.googleusercontent.com/a-/AOh14GgEuicTWQW6tLFP4q9zaCU67NViBzGAa9NZ8kMg2Q=s64",
      "userId": "13829564862953937633"
     },
     "user_tz": -60
    },
    "id": "WuOZxNYXvuvn"
   },
   "outputs": [
    {
     "name": "stdout",
     "output_type": "stream",
     "text": [
      "<class 'pandas.core.frame.DataFrame'>\n",
      "RangeIndex: 10866 entries, 0 to 10865\n",
      "Data columns (total 8 columns):\n",
      " #   Column          Non-Null Count  Dtype  \n",
      "---  ------          --------------  -----  \n",
      " 0   popularity      10866 non-null  float64\n",
      " 1   original_title  10866 non-null  object \n",
      " 2   genres          10843 non-null  object \n",
      " 3   vote_count      10866 non-null  int64  \n",
      " 4   vote_average    10866 non-null  float64\n",
      " 5   release_year    10866 non-null  int64  \n",
      " 6   budget_adj      10866 non-null  float64\n",
      " 7   revenue_adj     10866 non-null  float64\n",
      "dtypes: float64(4), int64(2), object(2)\n",
      "memory usage: 679.2+ KB\n"
     ]
    }
   ],
   "source": [
    "df.info()\n"
   ]
  },
  {
   "cell_type": "code",
   "execution_count": 15,
   "metadata": {
    "executionInfo": {
     "elapsed": 1663,
     "status": "aborted",
     "timestamp": 1608933885528,
     "user": {
      "displayName": "Dong Hai Nguyen Thanh",
      "photoUrl": "https://lh3.googleusercontent.com/a-/AOh14GgEuicTWQW6tLFP4q9zaCU67NViBzGAa9NZ8kMg2Q=s64",
      "userId": "13829564862953937633"
     },
     "user_tz": -60
    },
    "id": "MiitQo-lwF1l"
   },
   "outputs": [
    {
     "name": "stdout",
     "output_type": "stream",
     "text": [
      "<class 'pandas.core.frame.DataFrame'>\n",
      "RangeIndex: 10866 entries, 0 to 10865\n",
      "Data columns (total 21 columns):\n",
      " #   Column                Non-Null Count  Dtype  \n",
      "---  ------                --------------  -----  \n",
      " 0   id                    10866 non-null  int64  \n",
      " 1   imdb_id               10856 non-null  object \n",
      " 2   popularity            10866 non-null  float64\n",
      " 3   budget                10866 non-null  int64  \n",
      " 4   revenue               10866 non-null  int64  \n",
      " 5   original_title        10866 non-null  object \n",
      " 6   cast                  10790 non-null  object \n",
      " 7   homepage              2936 non-null   object \n",
      " 8   director              10822 non-null  object \n",
      " 9   tagline               8042 non-null   object \n",
      " 10  keywords              9373 non-null   object \n",
      " 11  overview              10862 non-null  object \n",
      " 12  runtime               10866 non-null  int64  \n",
      " 13  genres                10843 non-null  object \n",
      " 14  production_companies  9836 non-null   object \n",
      " 15  release_date          10866 non-null  object \n",
      " 16  vote_count            10866 non-null  int64  \n",
      " 17  vote_average          10866 non-null  float64\n",
      " 18  release_year          10866 non-null  int64  \n",
      " 19  budget_adj            10866 non-null  float64\n",
      " 20  revenue_adj           10866 non-null  float64\n",
      "dtypes: float64(4), int64(6), object(11)\n",
      "memory usage: 1.7+ MB\n"
     ]
    }
   ],
   "source": [
    "df_backup.info()"
   ]
  },
  {
   "cell_type": "code",
   "execution_count": 16,
   "metadata": {
    "executionInfo": {
     "elapsed": 1654,
     "status": "aborted",
     "timestamp": 1608933885529,
     "user": {
      "displayName": "Dong Hai Nguyen Thanh",
      "photoUrl": "https://lh3.googleusercontent.com/a-/AOh14GgEuicTWQW6tLFP4q9zaCU67NViBzGAa9NZ8kMg2Q=s64",
      "userId": "13829564862953937633"
     },
     "user_tz": -60
    },
    "id": "y2mq0Y5WwrgR"
   },
   "outputs": [
    {
     "name": "stdout",
     "output_type": "stream",
     "text": [
      "<class 'pandas.core.frame.DataFrame'>\n",
      "RangeIndex: 10866 entries, 0 to 10865\n",
      "Data columns (total 8 columns):\n",
      " #   Column          Non-Null Count  Dtype  \n",
      "---  ------          --------------  -----  \n",
      " 0   popularity      10866 non-null  float64\n",
      " 1   original_title  10866 non-null  object \n",
      " 2   genres          10843 non-null  object \n",
      " 3   vote_count      10866 non-null  int64  \n",
      " 4   vote_average    10866 non-null  float64\n",
      " 5   release_year    10866 non-null  int64  \n",
      " 6   budget_adj      10866 non-null  float64\n",
      " 7   revenue_adj     10866 non-null  float64\n",
      "dtypes: float64(4), int64(2), object(2)\n",
      "memory usage: 679.2+ KB\n"
     ]
    }
   ],
   "source": [
    "\n",
    "df.info()"
   ]
  },
  {
   "cell_type": "code",
   "execution_count": 17,
   "metadata": {
    "executionInfo": {
     "elapsed": 1646,
     "status": "aborted",
     "timestamp": 1608933885530,
     "user": {
      "displayName": "Dong Hai Nguyen Thanh",
      "photoUrl": "https://lh3.googleusercontent.com/a-/AOh14GgEuicTWQW6tLFP4q9zaCU67NViBzGAa9NZ8kMg2Q=s64",
      "userId": "13829564862953937633"
     },
     "user_tz": -60
    },
    "id": "19m1lnhHxVdw"
   },
   "outputs": [
    {
     "data": {
      "text/plain": [
       "Index(['popularity', 'original_title', 'genres', 'vote_count', 'vote_average',\n",
       "       'release_year', 'budget_adj', 'revenue_adj'],\n",
       "      dtype='object')"
      ]
     },
     "execution_count": 17,
     "metadata": {},
     "output_type": "execute_result"
    }
   ],
   "source": [
    "df.columns"
   ]
  },
  {
   "cell_type": "code",
   "execution_count": 18,
   "metadata": {
    "executionInfo": {
     "elapsed": 1635,
     "status": "aborted",
     "timestamp": 1608933885530,
     "user": {
      "displayName": "Dong Hai Nguyen Thanh",
      "photoUrl": "https://lh3.googleusercontent.com/a-/AOh14GgEuicTWQW6tLFP4q9zaCU67NViBzGAa9NZ8kMg2Q=s64",
      "userId": "13829564862953937633"
     },
     "user_tz": -60
    },
    "id": "45b1D5vrxfam"
   },
   "outputs": [
    {
     "data": {
      "text/plain": [
       "popularity         0\n",
       "original_title     0\n",
       "genres            23\n",
       "vote_count         0\n",
       "vote_average       0\n",
       "release_year       0\n",
       "budget_adj         0\n",
       "revenue_adj        0\n",
       "dtype: int64"
      ]
     },
     "execution_count": 18,
     "metadata": {},
     "output_type": "execute_result"
    }
   ],
   "source": [
    "df.isnull().sum()"
   ]
  },
  {
   "cell_type": "code",
   "execution_count": 19,
   "metadata": {
    "executionInfo": {
     "elapsed": 1626,
     "status": "aborted",
     "timestamp": 1608933885531,
     "user": {
      "displayName": "Dong Hai Nguyen Thanh",
      "photoUrl": "https://lh3.googleusercontent.com/a-/AOh14GgEuicTWQW6tLFP4q9zaCU67NViBzGAa9NZ8kMg2Q=s64",
      "userId": "13829564862953937633"
     },
     "user_tz": -60
    },
    "id": "wQbjrFmYzM5S"
   },
   "outputs": [
    {
     "data": {
      "text/plain": [
       "popularity        0\n",
       "original_title    0\n",
       "genres            0\n",
       "vote_count        0\n",
       "vote_average      0\n",
       "release_year      0\n",
       "budget_adj        0\n",
       "revenue_adj       0\n",
       "dtype: int64"
      ]
     },
     "execution_count": 19,
     "metadata": {},
     "output_type": "execute_result"
    }
   ],
   "source": [
    "# Suppress null rows\n",
    "df.dropna(inplace=True)\n",
    "# check again null row (should be none)\n",
    "df.isnull().sum()"
   ]
  },
  {
   "cell_type": "code",
   "execution_count": 20,
   "metadata": {
    "executionInfo": {
     "elapsed": 1615,
     "status": "aborted",
     "timestamp": 1608933885531,
     "user": {
      "displayName": "Dong Hai Nguyen Thanh",
      "photoUrl": "https://lh3.googleusercontent.com/a-/AOh14GgEuicTWQW6tLFP4q9zaCU67NViBzGAa9NZ8kMg2Q=s64",
      "userId": "13829564862953937633"
     },
     "user_tz": -60
    },
    "id": "cKa8fitMzYZQ"
   },
   "outputs": [
    {
     "data": {
      "text/plain": [
       "(10843, 8)"
      ]
     },
     "execution_count": 20,
     "metadata": {},
     "output_type": "execute_result"
    }
   ],
   "source": [
    "df.shape"
   ]
  },
  {
   "cell_type": "markdown",
   "metadata": {
    "id": "gEd439iIznsw"
   },
   "source": [
    "EDA (Explorer Data Analysis)"
   ]
  },
  {
   "cell_type": "code",
   "execution_count": 21,
   "metadata": {
    "executionInfo": {
     "elapsed": 1605,
     "status": "aborted",
     "timestamp": 1608933885532,
     "user": {
      "displayName": "Dong Hai Nguyen Thanh",
      "photoUrl": "https://lh3.googleusercontent.com/a-/AOh14GgEuicTWQW6tLFP4q9zaCU67NViBzGAa9NZ8kMg2Q=s64",
      "userId": "13829564862953937633"
     },
     "user_tz": -60
    },
    "id": "ZXlQN8XKzz9D"
   },
   "outputs": [
    {
     "data": {
      "text/plain": [
       "<bound method DataFrame.info of        popularity                original_title  \\\n",
       "0       32.985763                Jurassic World   \n",
       "1       28.419936            Mad Max: Fury Road   \n",
       "2       13.112507                     Insurgent   \n",
       "3       11.173104  Star Wars: The Force Awakens   \n",
       "4        9.335014                     Furious 7   \n",
       "...           ...                           ...   \n",
       "10861    0.080598            The Endless Summer   \n",
       "10862    0.065543                    Grand Prix   \n",
       "10863    0.065141           Beregis Avtomobilya   \n",
       "10864    0.064317        What's Up, Tiger Lily?   \n",
       "10865    0.035919      Manos: The Hands of Fate   \n",
       "\n",
       "                                          genres  vote_count  vote_average  \\\n",
       "0      Action|Adventure|Science Fiction|Thriller        5562           6.5   \n",
       "1      Action|Adventure|Science Fiction|Thriller        6185           7.1   \n",
       "2             Adventure|Science Fiction|Thriller        2480           6.3   \n",
       "3       Action|Adventure|Science Fiction|Fantasy        5292           7.5   \n",
       "4                          Action|Crime|Thriller        2947           7.3   \n",
       "...                                          ...         ...           ...   \n",
       "10861                                Documentary          11           7.4   \n",
       "10862                     Action|Adventure|Drama          20           5.7   \n",
       "10863                             Mystery|Comedy          11           6.5   \n",
       "10864                              Action|Comedy          22           5.4   \n",
       "10865                                     Horror          15           1.5   \n",
       "\n",
       "       release_year    budget_adj   revenue_adj   genres_adj  \n",
       "0              2015  1.379999e+08  1.392446e+09       Action  \n",
       "1              2015  1.379999e+08  3.481613e+08       Action  \n",
       "2              2015  1.012000e+08  2.716190e+08    Adventure  \n",
       "3              2015  1.839999e+08  1.902723e+09       Action  \n",
       "4              2015  1.747999e+08  1.385749e+09       Action  \n",
       "...             ...           ...           ...          ...  \n",
       "10861          1966  0.000000e+00  0.000000e+00  Documentary  \n",
       "10862          1966  0.000000e+00  0.000000e+00       Action  \n",
       "10863          1966  0.000000e+00  0.000000e+00      Mystery  \n",
       "10864          1966  0.000000e+00  0.000000e+00       Action  \n",
       "10865          1966  1.276423e+05  0.000000e+00       Horror  \n",
       "\n",
       "[10843 rows x 9 columns]>"
      ]
     },
     "execution_count": 21,
     "metadata": {},
     "output_type": "execute_result"
    }
   ],
   "source": [
    "# Keep the main genre\n",
    "list_genre=[]\n",
    "for i in df['genres']:\n",
    "  i=i.split('|') # genres delimitator\n",
    "  list_genre.append(i[0]) # keep the main genre\n",
    "# append the list (genre) into df\n",
    "df['genres_adj'] = list_genre\n",
    "df.info"
   ]
  },
  {
   "cell_type": "code",
   "execution_count": 22,
   "metadata": {
    "executionInfo": {
     "elapsed": 1596,
     "status": "aborted",
     "timestamp": 1608933885532,
     "user": {
      "displayName": "Dong Hai Nguyen Thanh",
      "photoUrl": "https://lh3.googleusercontent.com/a-/AOh14GgEuicTWQW6tLFP4q9zaCU67NViBzGAa9NZ8kMg2Q=s64",
      "userId": "13829564862953937633"
     },
     "user_tz": -60
    },
    "id": "1PxQh2nlzfs4"
   },
   "outputs": [
    {
     "data": {
      "text/plain": [
       "51473316.52761116"
      ]
     },
     "execution_count": 22,
     "metadata": {},
     "output_type": "execute_result"
    }
   ],
   "source": [
    "df['revenue_adj'].mean()"
   ]
  },
  {
   "cell_type": "code",
   "execution_count": 23,
   "metadata": {
    "executionInfo": {
     "elapsed": 1586,
     "status": "aborted",
     "timestamp": 1608933885533,
     "user": {
      "displayName": "Dong Hai Nguyen Thanh",
      "photoUrl": "https://lh3.googleusercontent.com/a-/AOh14GgEuicTWQW6tLFP4q9zaCU67NViBzGAa9NZ8kMg2Q=s64",
      "userId": "13829564862953937633"
     },
     "user_tz": -60
    },
    "id": "Bk2scvDi1I1y"
   },
   "outputs": [
    {
     "data": {
      "text/plain": [
       "17588266.220953114"
      ]
     },
     "execution_count": 23,
     "metadata": {},
     "output_type": "execute_result"
    }
   ],
   "source": [
    "df['budget_adj'].mean()"
   ]
  },
  {
   "cell_type": "code",
   "execution_count": 24,
   "metadata": {
    "executionInfo": {
     "elapsed": 1577,
     "status": "aborted",
     "timestamp": 1608933885533,
     "user": {
      "displayName": "Dong Hai Nguyen Thanh",
      "photoUrl": "https://lh3.googleusercontent.com/a-/AOh14GgEuicTWQW6tLFP4q9zaCU67NViBzGAa9NZ8kMg2Q=s64",
      "userId": "13829564862953937633"
     },
     "user_tz": -60
    },
    "id": "ECG_lYqK1PBX"
   },
   "outputs": [
    {
     "data": {
      "text/plain": [
       "5.973973992437535"
      ]
     },
     "execution_count": 24,
     "metadata": {},
     "output_type": "execute_result"
    }
   ],
   "source": [
    "df['vote_average'].mean()"
   ]
  },
  {
   "cell_type": "code",
   "execution_count": 25,
   "metadata": {
    "executionInfo": {
     "elapsed": 1568,
     "status": "aborted",
     "timestamp": 1608933885534,
     "user": {
      "displayName": "Dong Hai Nguyen Thanh",
      "photoUrl": "https://lh3.googleusercontent.com/a-/AOh14GgEuicTWQW6tLFP4q9zaCU67NViBzGAa9NZ8kMg2Q=s64",
      "userId": "13829564862953937633"
     },
     "user_tz": -60
    },
    "id": "rh3oJXlj1UxA"
   },
   "outputs": [
    {
     "data": {
      "text/plain": [
       "array([6.5, 7.1, 6.3, 7.5, 7.3, 7.2, 5.8, 7.6, 8. , 6.2, 5.2, 7.4, 6.1,\n",
       "       7. , 6.8, 5.3, 7.8, 6.4, 6.6, 7.7, 5.6, 6.9, 5.9, 6.7, 5.5, 5. ,\n",
       "       4.4, 5.4, 5.1, 4.8, 5.7, 4.1, 3.9, 4.5, 6. , 4.2, 3.6, 4.3, 4.9,\n",
       "       4.7, 4. , 3.5, 3.8, 3.3, 3.7, 4.6, 7.9, 8.2, 2.6, 3.1, 8.9, 3.2,\n",
       "       2.4, 8.4, 3. , 2.8, 3.4, 8.8, 8.1, 8.3, 2.7, 2.5, 2.1, 8.6, 2.9,\n",
       "       8.5, 9.2, 2.2, 2. , 8.7, 2.3, 1.5])"
      ]
     },
     "execution_count": 25,
     "metadata": {},
     "output_type": "execute_result"
    }
   ],
   "source": [
    "df['vote_average'].unique()"
   ]
  },
  {
   "cell_type": "code",
   "execution_count": 26,
   "metadata": {
    "executionInfo": {
     "elapsed": 1561,
     "status": "aborted",
     "timestamp": 1608933885538,
     "user": {
      "displayName": "Dong Hai Nguyen Thanh",
      "photoUrl": "https://lh3.googleusercontent.com/a-/AOh14GgEuicTWQW6tLFP4q9zaCU67NViBzGAa9NZ8kMg2Q=s64",
      "userId": "13829564862953937633"
     },
     "user_tz": -60
    },
    "id": "lJpXsBAH1iTh"
   },
   "outputs": [
    {
     "data": {
      "text/plain": [
       "array(['Action', 'Adventure', 'Western', 'Science Fiction', 'Drama',\n",
       "       'Family', 'Comedy', 'Crime', 'Romance', 'War', 'Mystery',\n",
       "       'Thriller', 'Fantasy', 'History', 'Animation', 'Horror', 'Music',\n",
       "       'Documentary', 'TV Movie', 'Foreign'], dtype=object)"
      ]
     },
     "execution_count": 26,
     "metadata": {},
     "output_type": "execute_result"
    }
   ],
   "source": [
    "df['genres_adj'].unique()"
   ]
  },
  {
   "cell_type": "code",
   "execution_count": 27,
   "metadata": {
    "executionInfo": {
     "elapsed": 1552,
     "status": "aborted",
     "timestamp": 1608933885539,
     "user": {
      "displayName": "Dong Hai Nguyen Thanh",
      "photoUrl": "https://lh3.googleusercontent.com/a-/AOh14GgEuicTWQW6tLFP4q9zaCU67NViBzGAa9NZ8kMg2Q=s64",
      "userId": "13829564862953937633"
     },
     "user_tz": -60
    },
    "id": "7Vgqfyvr1n5Q"
   },
   "outputs": [
    {
     "data": {
      "text/plain": [
       "Drama              2453\n",
       "Comedy             2319\n",
       "Action             1590\n",
       "Horror              915\n",
       "Adventure           586\n",
       "Thriller            491\n",
       "Documentary         432\n",
       "Animation           403\n",
       "Crime               381\n",
       "Fantasy             272\n",
       "Science Fiction     214\n",
       "Romance             186\n",
       "Family              144\n",
       "Mystery             125\n",
       "Music               100\n",
       "TV Movie             78\n",
       "War                  59\n",
       "History              44\n",
       "Western              42\n",
       "Foreign               9\n",
       "Name: genres_adj, dtype: int64"
      ]
     },
     "execution_count": 27,
     "metadata": {},
     "output_type": "execute_result"
    }
   ],
   "source": [
    "df['genres_adj'].value_counts()"
   ]
  },
  {
   "cell_type": "markdown",
   "metadata": {
    "id": "PGwJYspj2eep"
   },
   "source": [
    "Univariate analysis (single variable)"
   ]
  },
  {
   "cell_type": "code",
   "execution_count": 28,
   "metadata": {
    "executionInfo": {
     "elapsed": 1541,
     "status": "aborted",
     "timestamp": 1608933885540,
     "user": {
      "displayName": "Dong Hai Nguyen Thanh",
      "photoUrl": "https://lh3.googleusercontent.com/a-/AOh14GgEuicTWQW6tLFP4q9zaCU67NViBzGAa9NZ8kMg2Q=s64",
      "userId": "13829564862953937633"
     },
     "user_tz": -60
    },
    "id": "nmTtLzQM10Vh"
   },
   "outputs": [
    {
     "data": {
      "text/plain": [
       "<AxesSubplot:ylabel='Frequency'>"
      ]
     },
     "execution_count": 28,
     "metadata": {},
     "output_type": "execute_result"
    },
    {
     "data": {
      "image/png": "[encoded data removed]",
      "text/plain": [
       "<Figure size 432x288 with 1 Axes>"
      ]
     },
     "metadata": {
      "needs_background": "light"
     },
     "output_type": "display_data"
    }
   ],
   "source": [
    "# Build histogram of vote_average\n",
    "df['vote_average'].plot(kind='hist')"
   ]
  },
  {
   "cell_type": "code",
   "execution_count": 29,
   "metadata": {
    "executionInfo": {
     "elapsed": 1528,
     "status": "aborted",
     "timestamp": 1608933885540,
     "user": {
      "displayName": "Dong Hai Nguyen Thanh",
      "photoUrl": "https://lh3.googleusercontent.com/a-/AOh14GgEuicTWQW6tLFP4q9zaCU67NViBzGAa9NZ8kMg2Q=s64",
      "userId": "13829564862953937633"
     },
     "user_tz": -60
    },
    "id": "2ZOyRIen2Nra"
   },
   "outputs": [
    {
     "data": {
      "text/plain": [
       "<AxesSubplot:ylabel='Frequency'>"
      ]
     },
     "execution_count": 29,
     "metadata": {},
     "output_type": "execute_result"
    },
    {
     "data": {
      "image/png": "[encoded data removed]",
      "text/plain": [
       "<Figure size 432x288 with 1 Axes>"
      ]
     },
     "metadata": {
      "needs_background": "light"
     },
     "output_type": "display_data"
    }
   ],
   "source": [
    "# Build histogram of Budget\n",
    "df['budget_adj'].plot(kind='hist')"
   ]
  },
  {
   "cell_type": "code",
   "execution_count": 30,
   "metadata": {
    "executionInfo": {
     "elapsed": 1514,
     "status": "aborted",
     "timestamp": 1608933885541,
     "user": {
      "displayName": "Dong Hai Nguyen Thanh",
      "photoUrl": "https://lh3.googleusercontent.com/a-/AOh14GgEuicTWQW6tLFP4q9zaCU67NViBzGAa9NZ8kMg2Q=s64",
      "userId": "13829564862953937633"
     },
     "user_tz": -60
    },
    "id": "bcnebzQH2THa"
   },
   "outputs": [
    {
     "data": {
      "text/plain": [
       "<AxesSubplot:ylabel='Frequency'>"
      ]
     },
     "execution_count": 30,
     "metadata": {},
     "output_type": "execute_result"
    },
    {
     "data": {
      "image/png": "[encoded data removed]",
      "text/plain": [
       "<Figure size 432x288 with 1 Axes>"
      ]
     },
     "metadata": {
      "needs_background": "light"
     },
     "output_type": "display_data"
    }
   ],
   "source": [
    "# Build histogram of Revenue\n",
    "df['revenue_adj'].plot(kind='hist')"
   ]
  },
  {
   "cell_type": "markdown",
   "metadata": {
    "id": "88xMH3Dh2sBb"
   },
   "source": [
    "Multivariate analysis (two or more variables)"
   ]
  },
  {
   "cell_type": "code",
   "execution_count": 32,
   "metadata": {
    "executionInfo": {
     "elapsed": 1503,
     "status": "aborted",
     "timestamp": 1608933885542,
     "user": {
      "displayName": "Dong Hai Nguyen Thanh",
      "photoUrl": "https://lh3.googleusercontent.com/a-/AOh14GgEuicTWQW6tLFP4q9zaCU67NViBzGAa9NZ8kMg2Q=s64",
      "userId": "13829564862953937633"
     },
     "user_tz": -60
    },
    "id": "hKkzVkX82o1a"
   },
   "outputs": [
    {
     "data": {
      "text/plain": [
       "<AxesSubplot:>"
      ]
     },
     "execution_count": 32,
     "metadata": {},
     "output_type": "execute_result"
    },
    {
     "data": {
      "image/png": "[encoded data removed]",
      "text/plain": [
       "<Figure size 432x288 with 2 Axes>"
      ]
     },
     "metadata": {
      "needs_background": "light"
     },
     "output_type": "display_data"
    }
   ],
   "source": [
    "# check the correlation of two variables\n",
    "corr=df.corr()\n",
    "sns.heatmap(corr,xticklabels=corr.columns, yticklabels=corr.columns,annot=True, cmap=sns.diverging_palette(220,20,as_cmap=True))\n",
    "# warm color : hot/orange means high correlation between 2 variables (budget vs revenue = 0.65)"
   ]
  },
  {
   "cell_type": "code",
   "execution_count": 33,
   "metadata": {
    "executionInfo": {
     "elapsed": 1490,
     "status": "aborted",
     "timestamp": 1608933885543,
     "user": {
      "displayName": "Dong Hai Nguyen Thanh",
      "photoUrl": "https://lh3.googleusercontent.com/a-/AOh14GgEuicTWQW6tLFP4q9zaCU67NViBzGAa9NZ8kMg2Q=s64",
      "userId": "13829564862953937633"
     },
     "user_tz": -60
    },
    "id": "WFdKGC-c4kiT"
   },
   "outputs": [
    {
     "data": {
      "text/plain": [
       "<AxesSubplot:xlabel='budget_adj', ylabel='revenue_adj'>"
      ]
     },
     "execution_count": 33,
     "metadata": {},
     "output_type": "execute_result"
    },
    {
     "data": {
      "image/png": "[encoded data removed]",
      "text/plain": [
       "<Figure size 432x288 with 1 Axes>"
      ]
     },
     "metadata": {
      "needs_background": "light"
     },
     "output_type": "display_data"
    }
   ],
   "source": [
    "# Plot with pandas dataframe\n",
    "df.plot(kind='scatter', x='budget_adj', y='revenue_adj')"
   ]
  },
  {
   "cell_type": "code",
   "execution_count": 34,
   "metadata": {
    "executionInfo": {
     "elapsed": 1477,
     "status": "aborted",
     "timestamp": 1608933885543,
     "user": {
      "displayName": "Dong Hai Nguyen Thanh",
      "photoUrl": "https://lh3.googleusercontent.com/a-/AOh14GgEuicTWQW6tLFP4q9zaCU67NViBzGAa9NZ8kMg2Q=s64",
      "userId": "13829564862953937633"
     },
     "user_tz": -60
    },
    "id": "BFLqxhtc47Rj"
   },
   "outputs": [
    {
     "data": {
      "text/plain": [
       "<AxesSubplot:xlabel='vote_count', ylabel='revenue_adj'>"
      ]
     },
     "execution_count": 34,
     "metadata": {},
     "output_type": "execute_result"
    },
    {
     "data": {
      "image/png": "[encoded data removed]",
      "text/plain": [
       "<Figure size 432x288 with 1 Axes>"
      ]
     },
     "metadata": {
      "needs_background": "light"
     },
     "output_type": "display_data"
    }
   ],
   "source": [
    "df.plot(kind='scatter', x='vote_count', y='revenue_adj')"
   ]
  },
  {
   "cell_type": "code",
   "execution_count": 35,
   "metadata": {
    "executionInfo": {
     "elapsed": 1464,
     "status": "aborted",
     "timestamp": 1608933885544,
     "user": {
      "displayName": "Dong Hai Nguyen Thanh",
      "photoUrl": "https://lh3.googleusercontent.com/a-/AOh14GgEuicTWQW6tLFP4q9zaCU67NViBzGAa9NZ8kMg2Q=s64",
      "userId": "13829564862953937633"
     },
     "user_tz": -60
    },
    "id": "ymVP57q85CXq"
   },
   "outputs": [
    {
     "data": {
      "text/plain": [
       "<AxesSubplot:xlabel='vote_average', ylabel='revenue_adj'>"
      ]
     },
     "execution_count": 35,
     "metadata": {},
     "output_type": "execute_result"
    },
    {
     "data": {
      "image/png": "[encoded data removed]",
      "text/plain": [
       "<Figure size 432x288 with 1 Axes>"
      ]
     },
     "metadata": {
      "needs_background": "light"
     },
     "output_type": "display_data"
    }
   ],
   "source": [
    "df.plot(kind='scatter', x='vote_average', y='revenue_adj')"
   ]
  },
  {
   "cell_type": "markdown",
   "metadata": {
    "id": "fhEItzoq5NUo"
   },
   "source": [
    "Q1 : what is the genre of movies which has got biggest revenue"
   ]
  },
  {
   "cell_type": "code",
   "execution_count": 36,
   "metadata": {
    "executionInfo": {
     "elapsed": 1462,
     "status": "aborted",
     "timestamp": 1608933885545,
     "user": {
      "displayName": "Dong Hai Nguyen Thanh",
      "photoUrl": "https://lh3.googleusercontent.com/a-/AOh14GgEuicTWQW6tLFP4q9zaCU67NViBzGAa9NZ8kMg2Q=s64",
      "userId": "13829564862953937633"
     },
     "user_tz": -60
    },
    "id": "QxvKKvn55GaS"
   },
   "outputs": [],
   "source": [
    "# avg of revenue by genre \n",
    "df_genre_rev=df.groupby(['genres_adj'])['revenue_adj'].mean()"
   ]
  },
  {
   "cell_type": "code",
   "execution_count": 37,
   "metadata": {
    "executionInfo": {
     "elapsed": 1452,
     "status": "aborted",
     "timestamp": 1608933885545,
     "user": {
      "displayName": "Dong Hai Nguyen Thanh",
      "photoUrl": "https://lh3.googleusercontent.com/a-/AOh14GgEuicTWQW6tLFP4q9zaCU67NViBzGAa9NZ8kMg2Q=s64",
      "userId": "13829564862953937633"
     },
     "user_tz": -60
    },
    "id": "LxU9j-TS6bv3"
   },
   "outputs": [
    {
     "data": {
      "text/plain": [
       "genres_adj\n",
       "Adventure          1.665356e+08\n",
       "Science Fiction    9.951810e+07\n",
       "Fantasy            8.283760e+07\n",
       "Family             7.724863e+07\n",
       "Animation          7.671443e+07\n",
       "Action             7.401006e+07\n",
       "History            6.536195e+07\n",
       "War                4.874310e+07\n",
       "Western            4.730739e+07\n",
       "Romance            4.721514e+07\n",
       "Crime              4.674641e+07\n",
       "Comedy             3.837766e+07\n",
       "Music              3.807907e+07\n",
       "Drama              3.578622e+07\n",
       "Thriller           3.096924e+07\n",
       "Mystery            3.002289e+07\n",
       "Horror             2.417979e+07\n",
       "Documentary        2.150125e+06\n",
       "TV Movie           7.485782e+05\n",
       "Foreign            0.000000e+00\n",
       "Name: revenue_adj, dtype: float64"
      ]
     },
     "execution_count": 37,
     "metadata": {},
     "output_type": "execute_result"
    }
   ],
   "source": [
    "# sorted by revenue\n",
    "df_genre_rev.sort_values(ascending=False)"
   ]
  },
  {
   "cell_type": "code",
   "execution_count": 38,
   "metadata": {
    "executionInfo": {
     "elapsed": 1443,
     "status": "aborted",
     "timestamp": 1608933885546,
     "user": {
      "displayName": "Dong Hai Nguyen Thanh",
      "photoUrl": "https://lh3.googleusercontent.com/a-/AOh14GgEuicTWQW6tLFP4q9zaCU67NViBzGAa9NZ8kMg2Q=s64",
      "userId": "13829564862953937633"
     },
     "user_tz": -60
    },
    "id": "wOnhyDas6LcK"
   },
   "outputs": [
    {
     "data": {
      "text/plain": [
       "<AxesSubplot:xlabel='genres_adj'>"
      ]
     },
     "execution_count": 38,
     "metadata": {},
     "output_type": "execute_result"
    },
    {
     "data": {
      "image/png": "[encoded data removed]",
      "text/plain": [
       "<Figure size 432x288 with 1 Axes>"
      ]
     },
     "metadata": {
      "needs_background": "light"
     },
     "output_type": "display_data"
    }
   ],
   "source": [
    "# Plot the bar chart\n",
    "df_genre_rev.plot(kind='bar')"
   ]
  }
 ],
 "metadata": {
  "colab": {
   "authorship_tag": "ABX9TyMCphgkIcx3hh1GvZ+SZTD7",
   "mount_file_id": "1K2KHLNOYeEIg0XX7d_LtWfFnXMAD0B9C",
   "name": "Copie de Explore Data Analysis.ipynb",
   "provenance": [
    {
     "file_id": "1K2KHLNOYeEIg0XX7d_LtWfFnXMAD0B9C",
     "timestamp": 1608936576410
    },
    {
     "file_id": "1KRpHXhGH6-vKiN4YZ31rVDkl7WaEQeuS",
     "timestamp": 1608933830495
    }
   ]
  },
  "kernelspec": {
   "display_name": "Python 3",
   "language": "python",
   "name": "python3"
  },
  "language_info": {
   "codemirror_mode": {
    "name": "ipython",
    "version": 3
   },
   "file_extension": ".py",
   "mimetype": "text/x-python",
   "name": "python",
   "nbconvert_exporter": "python",
   "pygments_lexer": "ipython3",
   "version": "3.7.3"
  }
 },
 "nbformat": 4,
 "nbformat_minor": 1
}
